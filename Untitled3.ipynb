{
 "cells": [
  {
   "cell_type": "code",
   "execution_count": 2,
   "metadata": {
    "collapsed": true
   },
   "outputs": [],
   "source": [
    "import turtle\n",
    "\n",
    "def draw_square(some_turtle) :\n",
    "    \n",
    "    for i in range(1,5):\n",
    "        some_turtle.forward(100) \n",
    "        some_turtle.right(90)\n",
    "        \n",
    "def draw_art () :\n",
    "    window = turtle.Screen()\n",
    "    window.bgcolor(\"red\")\n",
    "    brad = turtle.Turtle()\n",
    "    brad.shape(\"turtle\")\n",
    "    brad.color(\"yellow\")\n",
    "    brad.speed(2)\n",
    "    for i in range(1,36):\n",
    "        draw_square(brad)\n",
    "        brad.right(10)\n",
    "        \n",
    "         \n",
    "            \n",
    "    \n",
    "      \n",
    "    window.exitonclick()\n",
    "    \n",
    "    \n"
   ]
  },
  {
   "cell_type": "code",
   "execution_count": null,
   "metadata": {
    "collapsed": true
   },
   "outputs": [],
   "source": []
  }
 ],
 "metadata": {
  "kernelspec": {
   "display_name": "Python 2",
   "language": "python",
   "name": "python2"
  },
  "language_info": {
   "codemirror_mode": {
    "name": "ipython",
    "version": 2
   },
   "file_extension": ".py",
   "mimetype": "text/x-python",
   "name": "python",
   "nbconvert_exporter": "python",
   "pygments_lexer": "ipython2",
   "version": "2.7.13"
  }
 },
 "nbformat": 4,
 "nbformat_minor": 2
}
